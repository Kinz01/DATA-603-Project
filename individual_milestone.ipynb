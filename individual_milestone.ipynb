{
 "cells": [
  {
   "cell_type": "code",
   "execution_count": 2,
   "metadata": {},
   "outputs": [
    {
     "data": {
      "text/plain": [
       "\"\\nDatabase Table Definitions\\n\\n+-------------------------------------------+-------------------------------------------+\\n| Table Name                                | Column Details                            |\\n+-------------------------------------------+-------------------------------------------+\\n| census_employment_rate                    | id BIGINT (PK, AUTO_INC)                 |\\n|                                           | muncipality VARCHAR(200)                 |\\n|                                           | year YEAR                                |\\n|                                           | gender ENUM('male', 'both', '', '')      |\\n|                                           | category ENUM('unemployment rate',       |\\n|                                           | 'employment rate', '', '')               |\\n|                                           | rate FLOAT                               |\\n+-------------------------------------------+-------------------------------------------+\\n| municipalities_natural_gas_production     | id BIGINT (PK, AUTO_INC)                 |\\n|                                           | muncipality VARCHAR(200)                 |\\n|                                           | year YEAR                                |\\n|                                           | value FLOAT                              |\\n+-------------------------------------------+-------------------------------------------+\\n| municipalities_oil_production             | id BIGINT (PK, AUTO_INC)                 |\\n|                                           | muncipality VARCHAR(200)                 |\\n|                                           | year YEAR                                |\\n|                                           | value FLOAT                              |\\n+-------------------------------------------+-------------------------------------------+\\n| municipalities_rent                       | id BIGINT (PK, AUTO_INC)                 |\\n|                                           | muncipality VARCHAR(200)                 |\\n|                                           | year YEAR                                |\\n|                                           | rental_type ENUM('2 - bedroom',          |\\n|                                           | '3 - bedroom', 'bachelor', '')           |\\n|                                           | value FLOAT                              |\\n+-------------------------------------------+-------------------------------------------+\\n| municipalities_well_count                 | id BIGINT (PK, AUTO_INC)                 |\\n|                                           | muncipality VARCHAR(200)                 |\\n|                                           | year YEAR                                |\\n|                                           | value INT                                |\\n+-------------------------------------------+-------------------------------------------+\\n| natural_gas_prices                        | id BIGINT (PK, AUTO_INC)                 |\\n|                                           | year YEAR                                |\\n|                                           | price FLOAT                              |\\n+-------------------------------------------+-------------------------------------------+\\n| oil_price                                 | id BIGINT (PK, AUTO_INC)                 |\\n|                                           | date DATE                                |\\n|                                           | value FLOAT                              |\\n+-------------------------------------------+-------------------------------------------+\\n\\n\""
      ]
     },
     "execution_count": 2,
     "metadata": {},
     "output_type": "execute_result"
    }
   ],
   "source": [
    "\"\"\"\n",
    "Database Table Definitions\n",
    "\n",
    "+-------------------------------------------+-------------------------------------------+\n",
    "| Table Name                                | Column Details                            |\n",
    "+-------------------------------------------+-------------------------------------------+\n",
    "| census_employment_rate                    | id BIGINT (PK, AUTO_INC)                 |\n",
    "|                                           | muncipality VARCHAR(200)                 |\n",
    "|                                           | year YEAR                                |\n",
    "|                                           | gender ENUM('male', 'both', '', '')      |\n",
    "|                                           | category ENUM('unemployment rate',       |\n",
    "|                                           | 'employment rate', '', '')               |\n",
    "|                                           | rate FLOAT                               |\n",
    "+-------------------------------------------+-------------------------------------------+\n",
    "| municipalities_natural_gas_production     | id BIGINT (PK, AUTO_INC)                 |\n",
    "|                                           | muncipality VARCHAR(200)                 |\n",
    "|                                           | year YEAR                                |\n",
    "|                                           | value FLOAT                              |\n",
    "+-------------------------------------------+-------------------------------------------+\n",
    "| municipalities_oil_production             | id BIGINT (PK, AUTO_INC)                 |\n",
    "|                                           | muncipality VARCHAR(200)                 |\n",
    "|                                           | year YEAR                                |\n",
    "|                                           | value FLOAT                              |\n",
    "+-------------------------------------------+-------------------------------------------+\n",
    "| municipalities_rent                       | id BIGINT (PK, AUTO_INC)                 |\n",
    "|                                           | muncipality VARCHAR(200)                 |\n",
    "|                                           | year YEAR                                |\n",
    "|                                           | rental_type ENUM('2 - bedroom',          |\n",
    "|                                           | '3 - bedroom', 'bachelor', '')           |\n",
    "|                                           | value FLOAT                              |\n",
    "+-------------------------------------------+-------------------------------------------+\n",
    "| municipalities_well_count                 | id BIGINT (PK, AUTO_INC)                 |\n",
    "|                                           | muncipality VARCHAR(200)                 |\n",
    "|                                           | year YEAR                                |\n",
    "|                                           | value INT                                |\n",
    "+-------------------------------------------+-------------------------------------------+\n",
    "| natural_gas_prices                        | id BIGINT (PK, AUTO_INC)                 |\n",
    "|                                           | year YEAR                                |\n",
    "|                                           | price FLOAT                              |\n",
    "+-------------------------------------------+-------------------------------------------+\n",
    "| oil_price                                 | id BIGINT (PK, AUTO_INC)                 |\n",
    "|                                           | date DATE                                |\n",
    "|                                           | value FLOAT                              |\n",
    "+-------------------------------------------+-------------------------------------------+\n",
    "\n",
    "\"\"\""
   ]
  },
  {
   "cell_type": "markdown",
   "metadata": {},
   "source": [
    "### Query 1\n",
    "\n",
    "This query will blahs\n",
    "\n",
    "```\n",
    "  SELECT * FROM\n",
    "```"
   ]
  }
 ],
 "metadata": {
  "kernelspec": {
   "display_name": "Python 3",
   "language": "python",
   "name": "python3"
  },
  "language_info": {
   "codemirror_mode": {
    "name": "ipython",
    "version": 3
   },
   "file_extension": ".py",
   "mimetype": "text/x-python",
   "name": "python",
   "nbconvert_exporter": "python",
   "pygments_lexer": "ipython3",
   "version": "3.13.2"
  }
 },
 "nbformat": 4,
 "nbformat_minor": 4
}
