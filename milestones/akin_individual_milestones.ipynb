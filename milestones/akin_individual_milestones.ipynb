{
 "cells": [
  {
   "cell_type": "markdown",
   "id": "417a6f4c-4949-4b90-9094-98cf159ef92a",
   "metadata": {},
   "source": [
    "Database Table Definitions\n",
    "census_employment_rate\n",
    "\n",
    "    id: BIGINT (Primary Key, Auto Increment)\n",
    "    municipality: VARCHAR(200), Not Null\n",
    "    year: YEAR, Not Null\n",
    "    gender: ENUM('male', 'both', '', ''), Not Null\n",
    "    category: ENUM('unemployment rate', 'employment rate', '', ''), Not Null\n",
    "    rate: FLOAT, Not Null\n",
    "\n",
    "municipalities_natural_gas_production\n",
    "\n",
    "    id: BIGINT (Primary Key, Auto Increment)\n",
    "    municipality: VARCHAR(200), Not Null\n",
    "    year: YEAR, Not Null\n",
    "    value: FLOAT, Not Null\n",
    "\n",
    "municipalities_oil_production\n",
    "\n",
    "    id: BIGINT (Primary Key, Auto Increment)\n",
    "    municipality: VARCHAR(200), Not Null\n",
    "    year: YEAR, Not Null\n",
    "    value: FLOAT, Not Null\n",
    "\n",
    "municipalities_rent\n",
    "\n",
    "    id: BIGINT (Primary Key, Auto Increment)\n",
    "    municipality: VARCHAR(200), Not Null\n",
    "    year: YEAR, Not Null\n",
    "    rental_type: ENUM('2 - bedroom', '3 - bedroom', 'bachelor', ''), Not Null\n",
    "    value: FLOAT, Not Null\n",
    "\n",
    "municipalities_well_count\n",
    "\n",
    "    id: BIGINT (Primary Key, Auto Increment)\n",
    "    municipality: VARCHAR(200), Not Null\n",
    "    year: YEAR, Not Null\n",
    "    value: INT, Not Null\n",
    "\n",
    "natural_gas_prices\n",
    "\n",
    "    id: BIGINT (Primary Key, Auto Increment)\n",
    "    year: YEAR, Not Null\n",
    "    price: FLOAT, Not Null\n",
    "\n",
    "oil_price\n",
    "\n",
    "    id: BIGINT (Primary Key, Auto Increment)\n",
    "    date: DATE, Not Null\n",
    "    value: FLOAT, Not Null\n"
   ]
  },
  {
   "cell_type": "markdown",
   "id": "a9b01b68-ac28-4ca4-bc30-cba3ef03947d",
   "metadata": {},
   "source": [
    "Query to get the top 5 municipalities with the lowest female employment rate for each year\n",
    "\n",
    "  SELECT municipality, gender, category, year\n",
    "  FROM census_employment_rate\n",
    "  WHERE gender = 'female' AND category = 'employment rate'\n",
    "  ORDER BY year, rate ASC\n",
    "  LIMIT 5;\n"
   ]
  },
  {
   "cell_type": "markdown",
   "id": "39e5633d-4fb1-431b-a57c-9dba29da9f52",
   "metadata": {},
   "source": [
    "Query to get the total volume of oil for each municipality during the COVID Pandemic (2020 - 2022) \n",
    "\n",
    "  SELECT municipality, SUM(value) AS total_volume\n",
    "  FROM municipalities_oil_production\n",
    "  WHERE year IN = ('2020', '2021','2022')\n",
    "  GROUP BY municipality;"
   ]
  },
  {
   "cell_type": "markdown",
   "id": "81ab9b80-5db7-4273-ab99-93aa20e43ba6",
   "metadata": {},
   "source": [
    "Query to get the total volume of oil for each municipality for the years 2014 - 16\n",
    "\n",
    "SELECT municipality, SUM(value) AS total_volume\n",
    "  FROM municipalities_oil_production\n",
    "  WHERE year IN ('2014', '2015', '2016')\n",
    "  GROUP BY municipality;"
   ]
  },
  {
   "cell_type": "markdown",
   "id": "aaa2c319-37d6-4bcb-9b10-5b7153dca031",
   "metadata": {},
   "source": [
    "Query to get the total volume of natural gas for each municipality during the COVID Pandemic (2020 - 2022)\n",
    "\n",
    "SELECT municipality, SUM(value) AS total_gas\n",
    "  FROM municipalities_natural_gas_production\n",
    "  WHERE year IN ('2020', '2021', '2022')\n",
    "  GROUP BY municipality;\n"
   ]
  },
  {
   "cell_type": "markdown",
   "id": "6856561a-f8c9-4811-be41-bfac492399f7",
   "metadata": {},
   "source": [
    "Query to get the top 5 municipalities by well count\n",
    "\n",
    "SELECT municipality, SUM(value) AS total_wells \n",
    "  FROM municipalities_well_count\n",
    "  GROUP BY municipality\n",
    "  ORDER BY total_wells desc\n",
    "  LIMIT 5:"
   ]
  }
 ],
 "metadata": {
  "kernelspec": {
   "display_name": "Python 3",
   "language": "python",
   "name": "python3"
  },
  "language_info": {
   "codemirror_mode": {
    "name": "ipython",
    "version": 3
   },
   "file_extension": ".py",
   "mimetype": "text/x-python",
   "name": "python",
   "nbconvert_exporter": "python",
   "pygments_lexer": "ipython3",
   "version": "3.13.2"
  }
 },
 "nbformat": 4,
 "nbformat_minor": 5
}
