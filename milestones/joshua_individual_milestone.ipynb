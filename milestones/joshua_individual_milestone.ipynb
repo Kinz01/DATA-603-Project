{
  "cells": [
    {
      "cell_type": "markdown",
      "metadata": {},
      "source": [
        "## Database Table Definitions\n",
        "\n",
        "#### census_employment_rate\n",
        "- `id`: BIGINT (Primary Key, Auto Increment)\n",
        "- `municipality`: VARCHAR(200), Not Null\n",
        "- `year`: YEAR, Not Null\n",
        "- `gender`: ENUM('male', 'both', '', ''), Not Null\n",
        "- `category`: ENUM('unemployment rate', 'employment rate', '', ''), Not Null\n",
        "- `rate`: FLOAT, Not Null\n",
        "\n",
        "#### municipalities_natural_gas_production\n",
        "- `id`: BIGINT (Primary Key, Auto Increment)\n",
        "- `municipality`: VARCHAR(200), Not Null\n",
        "- `year`: YEAR, Not Null\n",
        "- `value`: FLOAT, Not Null\n",
        "\n",
        "#### municipalities_oil_production\n",
        "- `id`: BIGINT (Primary Key, Auto Increment)\n",
        "- `municipality`: VARCHAR(200), Not Null\n",
        "- `year`: YEAR, Not Null\n",
        "- `value`: FLOAT, Not Null\n",
        "\n",
        "#### municipalities_rent\n",
        "- `id`: BIGINT (Primary Key, Auto Increment)\n",
        "- `municipality`: VARCHAR(200), Not Null\n",
        "- `year`: YEAR, Not Null\n",
        "- `rental_type`: ENUM('2 - bedroom', '3 - bedroom', 'bachelor', ''), Not Null\n",
        "- `value`: FLOAT, Not Null\n",
        "\n",
        "#### municipalities_well_count\n",
        "- `id`: BIGINT (Primary Key, Auto Increment)\n",
        "- `municipality`: VARCHAR(200), Not Null\n",
        "- `year`: YEAR, Not Null\n",
        "- `value`: INT, Not Null\n",
        "\n",
        "#### natural_gas_prices\n",
        "- `id`: BIGINT (Primary Key, Auto Increment)\n",
        "- `year`: YEAR, Not Null\n",
        "- `price`: FLOAT, Not Null\n",
        "\n",
        "#### oil_price\n",
        "- `id`: BIGINT (Primary Key, Auto Increment)\n",
        "- `date`: DATE, Not Null\n",
        "- `value`: FLOAT, Not Null"
      ]
    },
    {
      "cell_type": "markdown",
      "metadata": {},
      "source": [
        "### Query 1\n",
        "\n",
        "Query to get the top 5 municipalities with the highest rent for each rental type\n",
        "\n",
        "```\n",
        "SELECT DISTINCT municipality, rental_type, average_rent\n",
        "FROM (\n",
        "    SELECT municipality, rental_type, AVG(value) as average_rent\n",
        "    FROM municipalities_rent\n",
        "    WHERE rental_type = RENTAL_TYPE\n",
        "    AND year >= LOWER_YEAR AND year <= UPPER_YEAR\n",
        "    GROUP BY municipality, rental_type\n",
        ") avg_rents\n",
        "ORDER BY average_rent DESC\n",
        "LIMIT 5;\n",
        "```"
      ]
    },
    {
      "cell_type": "markdown",
      "metadata": {},
      "source": [
        "### Query 2\n",
        "\n",
        "Query to get the municipality with the highest male employment rate per census year \n",
        "\n",
        "```\n",
        "  SELECT municipality, year, rate\n",
        "  FROM census_employment_rate\n",
        "  WHERE gender = GENDER_TYPE AND category = CATEGORY\n",
        "  ORDER BY year, rate DESC\n",
        "  LIMIT 1;\n",
        "```"
      ]
    },
    {
      "cell_type": "markdown",
      "metadata": {},
      "source": [
        "### Query 3\n",
        "\n",
        "Query to get all the distinct rental types\n",
        "\n",
        "```\n",
        "  SELECT distinct(rental_type) FROM municipalities_rent;\n",
        "```"
      ]
    },
    {
      "cell_type": "markdown",
      "metadata": {},
      "source": [
        "### Query 4\n",
        "\n",
        "Query to get the top 5 natural gas-producing municipalities\n",
        "\n",
        "\n",
        "```\n",
        "  SELECT municipality, SUM(value) AS total_production\n",
        "  FROM municipalities_natural_gas_production\n",
        "  GROUP BY municipality\n",
        "  ORDER BY total_production DESC\n",
        "  LIMIT 5;\n",
        "```"
      ]
    },
    {
      "cell_type": "markdown",
      "metadata": {},
      "source": [
        "### Query 5\n",
        "\n",
        "Query to get the well count for each municipality for the years 2014 - 16\n",
        "\n",
        "```\n",
        "  SELECT municipality, year, value AS well_count\n",
        "  FROM municipalities_well_count\n",
        "  WHERE year BETWEEN 2014 AND 2016\n",
        "  ORDER BY year, municipality;\n",
        "```\n"
      ]
    }
  ],
  "metadata": {
    "kernelspec": {
      "display_name": "Python 3 (ipykernel)",
      "language": "python",
      "name": "python3"
    },
    "language_info": {
      "codemirror_mode": {
        "name": "ipython",
        "version": 3
      },
      "file_extension": ".py",
      "mimetype": "text/x-python",
      "name": "python",
      "nbconvert_exporter": "python",
      "pygments_lexer": "ipython3",
      "version": "3.13.2"
    }
  },
  "nbformat": 4,
  "nbformat_minor": 2
}
