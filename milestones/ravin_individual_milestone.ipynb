{
 "cells": [
  {
   "cell_type": "markdown",
   "metadata": {},
   "source": [
    "## Database Table Definitions\n",
    "\n",
    "#### census_employment_rate\n",
    "- `id`: BIGINT (Primary Key, Auto Increment)\n",
    "- `municipality`: VARCHAR(200), Not Null\n",
    "- `year`: YEAR, Not Null\n",
    "- `gender`: ENUM('male', 'both', '', ''), Not Null\n",
    "- `category`: ENUM('unemployment rate', 'employment rate', '', ''), Not Null\n",
    "- `rate`: FLOAT, Not Null\n",
    "\n",
    "#### municipalities_natural_gas_production\n",
    "- `id`: BIGINT (Primary Key, Auto Increment)\n",
    "- `municipality`: VARCHAR(200), Not Null\n",
    "- `year`: YEAR, Not Null\n",
    "- `value`: FLOAT, Not Null\n",
    "\n",
    "#### municipalities_oil_production\n",
    "- `id`: BIGINT (Primary Key, Auto Increment)\n",
    "- `municipality`: VARCHAR(200), Not Null\n",
    "- `year`: YEAR, Not Null\n",
    "- `value`: FLOAT, Not Null\n",
    "\n",
    "#### municipalities_rent\n",
    "- `id`: BIGINT (Primary Key, Auto Increment)\n",
    "- `municipality`: VARCHAR(200), Not Null\n",
    "- `year`: YEAR, Not Null\n",
    "- `rental_type`: ENUM('2 - bedroom', '3 - bedroom', 'bachelor', ''), Not Null\n",
    "- `value`: FLOAT, Not Null\n",
    "\n",
    "#### municipalities_well_count\n",
    "- `id`: BIGINT (Primary Key, Auto Increment)\n",
    "- `municipality`: VARCHAR(200), Not Null\n",
    "- `year`: YEAR, Not Null\n",
    "- `value`: INT, Not Null\n",
    "\n",
    "#### natural_gas_prices\n",
    "- `id`: BIGINT (Primary Key, Auto Increment)\n",
    "- `year`: YEAR, Not Null\n",
    "- `price`: FLOAT, Not Null\n",
    "\n",
    "#### oil_price\n",
    "- `id`: BIGINT (Primary Key, Auto Increment)\n",
    "- `date`: DATE, Not Null\n",
    "- `value`: FLOAT, Not Null"
   ]
  },
  {
   "cell_type": "markdown",
   "metadata": {},
   "source": [
    "### Query 1\n",
    "\n",
    "Query to get the top 5 oil-producing municipalities:\n",
    "\n",
    "```\n",
    "SELECT municipality, SUM(value) AS oilproduction_total\n",
    "FROM municipalities_oil_production\n",
    "GROUP BY municipality\n",
    "ORDER BY oilproduction_total DESC\n",
    "LIMIT 5;\n",
    "```\n",
    "\n"
   ]
  },
  {
   "cell_type": "markdown",
   "metadata": {},
   "source": [
    "This first query will be used to find the highest oil production municipalities It will allow our team to tell which municipalities are the highest producers. "
   ]
  },
  {
   "cell_type": "markdown",
   "metadata": {},
   "source": [
    "### Query 2\n",
    "\n",
    "Query to get the total well count for each municipality during the COVID Pandemic (2020 - 2022) \n",
    "\n",
    "```\n",
    "SELECT municipality, SUM(value) AS wellcount_total\n",
    "FROM municipalities_well_count\n",
    "WHERE year BETWEEN 2020 AND 2022\n",
    "GROUP BY municipality\n",
    "ORDER BY wellcount_total DESC;\n",
    "```"
   ]
  },
  {
   "cell_type": "markdown",
   "metadata": {},
   "source": [
    "This query will allow us to tell which municipalities have the highest well count for each year from 2020-2022 which was when the covid pandemic occured. "
   ]
  },
  {
   "cell_type": "markdown",
   "metadata": {},
   "source": [
    "### Query 3\n",
    "\n",
    "Query to get the years that had the highest and lowest oil production in Calgary \n",
    "\n",
    "```\n",
    "\n",
    "## highest oil production year\n",
    "\n",
    "SELECT year, value\n",
    "FROM municipalities_oil_production\n",
    "WHERE municipality = 'Calgary'\n",
    "ORDER BY value DESC\n",
    "LIMIT 1; \n",
    "\n",
    "## lowest  oil production year\n",
    "\n",
    "SELECT year, value\n",
    "FROM municipalities_oil_production\n",
    "WHERE municipality = 'Calgary'\n",
    "ORDER BY value ASC\n",
    "LIMIT 1; \n",
    "```"
   ]
  },
  {
   "cell_type": "markdown",
   "metadata": {},
   "source": [
    "This will allow us to investigate oil production in a city familiar to us, Calgary. It will limit values to just the highest and lowest oil production year. We may be able to infer based on the years that are outputted wether a significant event may have occured to cause the increase or decrease in production.  "
   ]
  },
  {
   "cell_type": "markdown",
   "metadata": {},
   "source": [
    "### Query 4\n",
    "\n",
    "Query to get the years that had the highest and lowest natural gas production in Calgary \n",
    "\n",
    "```\n",
    "\n",
    "## highest natural gas production year \n",
    "\n",
    "SELECT year, value\n",
    "FROM municipalities_natural_gas_production\n",
    "WHERE municipality = 'Calgary'\n",
    "ORDER BY value DESC\n",
    "LIMIT 1; \n",
    "\n",
    "\n",
    "## lowest natural gas production year \n",
    "\n",
    "SELECT year, value\n",
    "FROM municipalities_natural_gas_production\n",
    "WHERE municipality = 'Calgary'\n",
    "ORDER BY value ASC\n",
    "LIMIT 1; \n",
    "\n",
    "```"
   ]
  },
  {
   "cell_type": "markdown",
   "metadata": {},
   "source": [
    "This will allow us to investigate natural gas production in a city familiar to us, Calgary. It will limit values to just the highest and lowest natural production year. We may be able to tell based on the years that are outputted wether a significant event may have occured to cause the increase or decrease in production. "
   ]
  },
  {
   "cell_type": "markdown",
   "metadata": {},
   "source": [
    "### Query 5\n",
    "\n",
    "Query to get the municipality with the highest female employment rate per census year\n",
    "\n",
    "```\n",
    "SELECT year, municipality, rate\n",
    "FROM census_employment_rate\n",
    "WHERE gender = 'female' AND category = 'employment rate'\n",
    "ORDER BY year, rate DESC;\n",
    "```"
   ]
  }
 ],
 "metadata": {
  "kernelspec": {
   "display_name": "Python 3",
   "language": "python",
   "name": "python3"
  },
  "language_info": {
   "codemirror_mode": {
    "name": "ipython",
    "version": 3
   },
   "file_extension": ".py",
   "mimetype": "text/x-python",
   "name": "python",
   "nbconvert_exporter": "python",
   "pygments_lexer": "ipython3",
   "version": "3.12.4"
  }
 },
 "nbformat": 4,
 "nbformat_minor": 2
}
